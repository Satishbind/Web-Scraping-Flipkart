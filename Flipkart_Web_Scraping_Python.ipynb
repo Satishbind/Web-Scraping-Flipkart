{
 "cells": [
  {
   "cell_type": "code",
   "execution_count": null,
   "id": "bb59d814",
   "metadata": {},
   "outputs": [],
   "source": [
    "import requests\n",
    "from bs4 import BeautifulSoup"
   ]
  },
  {
   "cell_type": "code",
   "execution_count": null,
   "id": "4351d56f",
   "metadata": {},
   "outputs": [],
   "source": [
    "url = \"https://www.flipkart.com/kobra-labs-bull-mass-gainer-weight-gainers-mass-gainers/product-reviews/itm8359b069955ef?pid=PSLG4XSHNBXBHZY3&lid=LSTPSLG4XSHNBXBHZY3AAMF6L&aid=overall&certifiedBuyer=false&sortOrder=MOST_RECENT&page=15\"\n",
    "code = requests.get(url)"
   ]
  },
  {
   "cell_type": "code",
   "execution_count": null,
   "id": "570345a0",
   "metadata": {},
   "outputs": [],
   "source": [
    "soup = BeautifulSoup(code.content,'html.parser')"
   ]
  },
  {
   "cell_type": "code",
   "execution_count": null,
   "id": "85a0eb29",
   "metadata": {},
   "outputs": [],
   "source": [
    "names = soup.find_all('p' ,class_='_2sc7ZR _2V5EHH')"
   ]
  },
  {
   "cell_type": "code",
   "execution_count": null,
   "id": "774ebac8",
   "metadata": {},
   "outputs": [],
   "source": [
    "cust_name = []\n",
    "\n",
    "for i in range(0,len(names)):\n",
    "    cust_name.append(names[i].get_text())"
   ]
  },
  {
   "cell_type": "code",
   "execution_count": null,
   "id": "2fec98a8",
   "metadata": {},
   "outputs": [],
   "source": [
    "district = soup.select('p._2mcZGG')\n"
   ]
  },
  {
   "cell_type": "code",
   "execution_count": null,
   "id": "446a40c0",
   "metadata": {},
   "outputs": [],
   "source": [
    "rev_district = []\n",
    "for i in range(0,len(district)):\n",
    "    rev_district.append(district[i].get_text())"
   ]
  },
  {
   "cell_type": "code",
   "execution_count": null,
   "id": "8a4b2ef9",
   "metadata": {},
   "outputs": [],
   "source": [
    "stars = soup.find_all('div' ,class_='_3LWZlK _1BLPMq')"
   ]
  },
  {
   "cell_type": "code",
   "execution_count": null,
   "id": "ccb36117",
   "metadata": {},
   "outputs": [],
   "source": [
    "ratings = []\n",
    "for i in range(0,len(stars)):\n",
    "    ratings.append(stars[i].get_text())"
   ]
  },
  {
   "cell_type": "code",
   "execution_count": null,
   "id": "b8ab2cb6",
   "metadata": {},
   "outputs": [],
   "source": [
    "titles = soup.find_all('p' ,class_='_2-N8zT')"
   ]
  },
  {
   "cell_type": "code",
   "execution_count": null,
   "id": "280a3ec2",
   "metadata": {},
   "outputs": [],
   "source": [
    "review_title = []\n",
    "for i in range(0,len(titles)):\n",
    "    review_title.append(titles[i].get_text())"
   ]
  },
  {
   "cell_type": "code",
   "execution_count": null,
   "id": "801237c3",
   "metadata": {},
   "outputs": [],
   "source": [
    "reviews = soup.find_all(\"div\",class_=\"t-ZTKy\")"
   ]
  },
  {
   "cell_type": "code",
   "execution_count": null,
   "id": "af46a2d9",
   "metadata": {},
   "outputs": [],
   "source": [
    "rev_content = []\n",
    "for i in range(0,len(reviews)):\n",
    "    rev_content.append(reviews[i])"
   ]
  },
  {
   "cell_type": "code",
   "execution_count": null,
   "id": "8c2181ce",
   "metadata": {},
   "outputs": [],
   "source": [
    "cust_name = []\n",
    "rev_district = []\n",
    "ratings = []\n",
    "rev_title = []\n",
    "rev_content = []\n",
    "for i in range(len(names)):\n",
    "    cust_name.append(names[i].get_text())\n",
    "    rev_district.append(district[i].get_text())\n",
    "    ratings.append(stars[i].get_text())\n",
    "    rev_title.append(titles[i].get_text())\n",
    "    rev_content.append(reviews[i].get_text().strip(\"\\n \"))"
   ]
  },
  {
   "cell_type": "code",
   "execution_count": null,
   "id": "9214749c",
   "metadata": {},
   "outputs": [],
   "source": [
    "rev_content"
   ]
  },
  {
   "cell_type": "code",
   "execution_count": null,
   "id": "286ef478",
   "metadata": {},
   "outputs": [],
   "source": [
    "import pandas as pd"
   ]
  },
  {
   "cell_type": "code",
   "execution_count": null,
   "id": "1df89379",
   "metadata": {},
   "outputs": [],
   "source": [
    "df = pd.DataFrame()\n",
    "df['Customer Name'] = cust_name\n",
    "df['District'] = rev_district \n",
    "df['Ratings'] = ratings\n",
    "df['Review Title'] = rev_title\n",
    "df['Reviews'] = rev_content\n",
    "df"
   ]
  },
  {
   "cell_type": "code",
   "execution_count": null,
   "id": "a0a07447",
   "metadata": {},
   "outputs": [],
   "source": [
    "df.to_csv(\"00015.csv\")"
   ]
  },
  {
   "cell_type": "code",
   "execution_count": null,
   "id": "e0c86650",
   "metadata": {},
   "outputs": [],
   "source": [
    "cust_name = []\n",
    "rev_district = []\n",
    "ratings = []\n",
    "rev_title = []\n",
    "rev_content = []\n",
    "for page in range(28,200):\n",
    "    url = \"https://www.flipkart.com/kobra-labs-bull-mass-gainer-weight-gainers-mass-gainers/product-reviews/itm8359b069955ef?pid=PSLG4XSHNBXBHZY3&lid=LSTPSLG4XSHNBXBHZY3AAMF6L&aid=overall&certifiedBuyer=false&sortOrder=NEGATIVE_FIRST&page=\"+str(page)\n",
    "    code = requests.get(url)\n",
    "    if str(code) == \"<Response [200]>\":\n",
    "        soup = BeautifulSoup(code.content,'html.parser')\n",
    "        names = soup.find_all('p' ,class_='_2sc7ZR _2V5EHH')[2:]\n",
    "        titles = soup.find_all('p' ,class_='_2-N8zT')\n",
    "        district = soup.select('p._2mcZGG')[2:]\n",
    "        stars = soup.find_all('div' ,class_='_3LWZlK _1BLPMq')[2:]\n",
    "        reviews = soup.find_all(\"div\",class_=\"t-ZTKy\")\n",
    "        for i in range(len(names)):\n",
    "            cust_name.append(names[i].get_text())\n",
    "            rev_district.append(district[i].get_text())\n",
    "            ratings.append(stars[i].get_text())\n",
    "            rev_title.append(titles[i].get_text())\n",
    "            rev_content.append(reviews[i].get_text().strip(\"\\n \"))"
   ]
  },
  {
   "cell_type": "code",
   "execution_count": null,
   "id": "fee50561",
   "metadata": {},
   "outputs": [],
   "source": [
    "str(code) == \"<Response [200]>\""
   ]
  },
  {
   "cell_type": "code",
   "execution_count": null,
   "id": "0a006d92",
   "metadata": {},
   "outputs": [],
   "source": [
    "df.to_csv(\"36.csv\")"
   ]
  },
  {
   "cell_type": "code",
   "execution_count": null,
   "id": "10a7f311",
   "metadata": {},
   "outputs": [],
   "source": [
    "df = pd.DataFrame()\n",
    "df['Customer Name'] = cust_name\n",
    "df['District'] = rev_district\n",
    "df['Rating'] = ratings\n",
    "df['Review Title'] = rev_title\n",
    "df['Reviews'] = rev_content\n",
    "df"
   ]
  },
  {
   "cell_type": "code",
   "execution_count": null,
   "id": "23cd21d0",
   "metadata": {},
   "outputs": [],
   "source": []
  }
 ],
 "metadata": {
  "kernelspec": {
   "display_name": "Python 3 (ipykernel)",
   "language": "python",
   "name": "python3"
  },
  "language_info": {
   "codemirror_mode": {
    "name": "ipython",
    "version": 3
   },
   "file_extension": ".py",
   "mimetype": "text/x-python",
   "name": "python",
   "nbconvert_exporter": "python",
   "pygments_lexer": "ipython3",
   "version": "3.9.7"
  }
 },
 "nbformat": 4,
 "nbformat_minor": 5
}
