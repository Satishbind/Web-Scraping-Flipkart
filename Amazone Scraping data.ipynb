{
 "cells": [
  {
   "cell_type": "code",
   "execution_count": 1,
   "id": "05311138",
   "metadata": {},
   "outputs": [],
   "source": [
    "import requests, re\n",
    "from bs4 import BeautifulSoup\n",
    "import pandas as pd"
   ]
  },
  {
   "cell_type": "code",
   "execution_count": 21,
   "id": "e501c0db",
   "metadata": {},
   "outputs": [
    {
     "name": "stdout",
     "output_type": "stream",
     "text": [
      "{'Name': 'Mehar Chaudhary', 'Date': 'Reviewed in India on 18 October 2021', 'Rating': '4.0 out of 5 stars', 'Title': ' Gummis not same as picture ', 'Review': ' Gud '}\n",
      "\n",
      "{'Name': 'Saloni Tayal', 'Date': 'Reviewed in India on 27 March 2021', 'Rating': '5.0 out of 5 stars', 'Title': ' Yummy gummies ', 'Review': \" Its is truly health with taste...it's taste is too good and I could see visible changes in my skin and hair...these gummies are a must try..!! \"}\n",
      "\n"
     ]
    }
   ],
   "source": [
    "def review_scraper(url,page):\n",
    "    url = f\"{url}&pageNumber={page}\"\n",
    "    user_agent = {\n",
    "        'User-Agent':'Mozilla/5.0 (Windows NT 10.0; Win64; x64) AppleWebKit/537.36 (KHTML, like Gecko) Chrome/103.0.0.0 Safari/537.36' \n",
    "    }\n",
    "    response = requests.get(url=url, headers = user_agent)\n",
    "    soup=BeautifulSoup(response.content, 'lxml')\n",
    "    \n",
    "    reviews = []\n",
    "    \n",
    "    for review in soup.find_all('div', {'class':'a-section review aok-relative'}):\n",
    "        name = (review.find('span',{'class':'a-profile-name'}).text)\n",
    "        date = (review.find('span',{'data-hook':'review-date'}).text)\n",
    "        rating = (review.find('i',{'data-hook':'review-star-rating'}).text)\n",
    "        title = re.sub('\\n', ' ', review.find('a',{'data-hook':'review-title'}).text)\n",
    "        review =re.sub('\\s+', ' ', review.find('div',{'class':'a-row a-spacing-small review-data'}).text)\n",
    "        \n",
    "        data = {\n",
    "               'Name':name,\n",
    "               'Date':date,\n",
    "               'Rating':rating,\n",
    "               'Title':title,\n",
    "               'Review':review,\n",
    "        }\n",
    "        \n",
    "        reviews.append(data)\n",
    "    \n",
    "    df = pd.DataFrame(reviews)\n",
    "    df.to_excel('ss18.xlsx',index=False)\n",
    "    return reviews\n",
    "    \n",
    "url =\"https://www.amazon.in/Purna-Multivitamin-Strawberry-Vitamins-Minerals/product-reviews/B07Y1S49QR/ref=cm_cr_arp_d_paging_btm_next_2?ie=UTF8&reviewerType=all_reviews&pageNumber=10\"\n",
    "page = 1\n",
    "\n",
    "for review in review_scraper(url, page):\n",
    "    print(review)\n",
    "    print()"
   ]
  },
  {
   "cell_type": "code",
   "execution_count": null,
   "id": "1785c388",
   "metadata": {},
   "outputs": [],
   "source": []
  }
 ],
 "metadata": {
  "kernelspec": {
   "display_name": "Python 3 (ipykernel)",
   "language": "python",
   "name": "python3"
  },
  "language_info": {
   "codemirror_mode": {
    "name": "ipython",
    "version": 3
   },
   "file_extension": ".py",
   "mimetype": "text/x-python",
   "name": "python",
   "nbconvert_exporter": "python",
   "pygments_lexer": "ipython3",
   "version": "3.9.12"
  }
 },
 "nbformat": 4,
 "nbformat_minor": 5
}
